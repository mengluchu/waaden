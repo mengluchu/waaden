{
 "cells": [
  {
   "cell_type": "code",
   "execution_count": 1,
   "metadata": {
    "execution": {
     "iopub.execute_input": "2020-11-23T15:35:52.876108Z",
     "iopub.status.busy": "2020-11-23T15:35:52.875306Z",
     "iopub.status.idle": "2020-11-23T15:35:56.331894Z",
     "shell.execute_reply": "2020-11-23T15:35:56.331002Z"
    },
    "papermill": {
     "duration": 3.491625,
     "end_time": "2020-11-23T15:35:56.332083",
     "exception": false,
     "start_time": "2020-11-23T15:35:52.840458",
     "status": "completed"
    },
    "tags": []
   },
   "outputs": [],
   "source": [
    "import os \n",
    "import numpy as np # linear algebra\n",
    "import pandas as pd # data processing, CSV file I/O (e.g. pd.read_csv)\n",
    "import matplotlib.pyplot as plt\n",
    "import geopandas as gp\n",
    "import pandas as pd\n",
    "import sklearn \n",
    "from sklearn.ensemble import RandomForestClassifier\n",
    "import xgboost\n",
    "from sklearn.metrics import confusion_matrix\n",
    "from sklearn.metrics import accuracy_score, precision_score, recall_score, roc_auc_score\n",
    "import xgboost as xgb\n",
    "def cl2idx(inputarr, dict_label):\n",
    "    y_label = np.zeros((inputarr.shape[0] ))\n",
    "    for i in range(inputarr.shape[0]):\n",
    "            y_label[i] = dict_label[inputarr[i, 0]]\n",
    "    return y_label\n",
    "\n"
   ]
  },
  {
   "cell_type": "code",
   "execution_count": 2,
   "metadata": {
    "execution": {
     "iopub.execute_input": "2020-11-23T15:35:57.257690Z",
     "iopub.status.busy": "2020-11-23T15:35:57.147591Z",
     "iopub.status.idle": "2020-11-23T15:37:10.579349Z",
     "shell.execute_reply": "2020-11-23T15:37:10.580051Z"
    },
    "papermill": {
     "duration": 74.226527,
     "end_time": "2020-11-23T15:37:10.580239",
     "exception": false,
     "start_time": "2020-11-23T15:35:56.353712",
     "status": "completed"
    },
    "tags": []
   },
   "outputs": [
    {
     "data": {
      "text/plain": [
       "Index(['density_SB', 'density_SD', 'Dif_bri_BD', 'EF_SB', 'EF_SD',\n",
       "       'GLCM_Co_gr', 'GLCM_Co_ni', 'GLCM_Co_re', 'GLCM_Co_br', 'GLCM_Ho_br',\n",
       "       'GLCM_Ho_gr', 'GLCM_Ho_ni', 'GLCM_Ho_re', 'LW_SB', 'LW_SD', 'max_SI_SS',\n",
       "       'max_SI_SSM', 'max_SI_sub', 'mean_abs_d', 'mean_aspec', 'mean_brigh',\n",
       "       'mean_green', 'mean_ndvi', 'mean_nir', 'mean_red', 'mn_area_SB',\n",
       "       'mn_area_SD', 'mn_bri_BmD', 'mn_bri_DmB', 'mn_bri_SB', 'mn_bri_SD',\n",
       "       'mn_SI_SB', 'mn_SI_SD', 'num_sub_ha', 'obj_ha_SS', 'obj_ha_SSM',\n",
       "       'SI_SB_SS', 'SI_SB_SSM', 'SI_SD_SS', 'SI_SD_SSM', 'std_brigh',\n",
       "       'std_green', 'std_ndvi', 'std_nir', 'std_red', 'tot_BL_SB', 'tot_BL_SD',\n",
       "       'Shape_Leng', 'Shape_Area', 'index_righ', 'GEOCODE2', 'OBJECTID',\n",
       "       'OMS_GEOCOD', 'JAAR', 'Shape_Le_1', 'Shape_Ar_1', 'Legcod', 'group_M'],\n",
       "      dtype='object')"
      ]
     },
     "execution_count": 2,
     "metadata": {},
     "output_type": "execute_result"
    }
   ],
   "source": [
    "\n",
    "joind = gp.read_file(\"../input/reclassified-ml/reclasified_ml/reclassified_ml.shp\")\n",
    " \n",
    "\n",
    "df1 = pd.DataFrame(joind.drop(columns='geometry'))\n",
    "df1 = df1.replace([np.inf, -np.inf], np.nan).dropna()\n",
    "\n",
    "df1.columns "
   ]
  },
  {
   "cell_type": "code",
   "execution_count": 3,
   "metadata": {
    "execution": {
     "iopub.execute_input": "2020-11-23T15:37:10.673392Z",
     "iopub.status.busy": "2020-11-23T15:37:10.672633Z",
     "iopub.status.idle": "2020-11-23T15:37:10.695423Z",
     "shell.execute_reply": "2020-11-23T15:37:10.694636Z"
    },
    "papermill": {
     "duration": 0.091138,
     "end_time": "2020-11-23T15:37:10.695545",
     "exception": false,
     "start_time": "2020-11-23T15:37:10.604407",
     "status": "completed"
    },
    "tags": []
   },
   "outputs": [],
   "source": [
    "Pcl = df1.loc[df1['group_M'].isin(['P1a1','P1a2', 'P2c','P2b'])]"
   ]
  },
  {
   "cell_type": "code",
   "execution_count": 4,
   "metadata": {
    "execution": {
     "iopub.execute_input": "2020-11-23T15:37:10.746894Z",
     "iopub.status.busy": "2020-11-23T15:37:10.745895Z",
     "iopub.status.idle": "2020-11-23T15:37:10.749771Z",
     "shell.execute_reply": "2020-11-23T15:37:10.750690Z"
    },
    "papermill": {
     "duration": 0.033274,
     "end_time": "2020-11-23T15:37:10.750850",
     "exception": false,
     "start_time": "2020-11-23T15:37:10.717576",
     "status": "completed"
    },
    "tags": []
   },
   "outputs": [
    {
     "name": "stdout",
     "output_type": "stream",
     "text": [
      "total 170981, P_classes: 66520\n"
     ]
    }
   ],
   "source": [
    "print(f'total {len(df1)}, P_classes: {len(Pcl)}')"
   ]
  },
  {
   "cell_type": "code",
   "execution_count": 5,
   "metadata": {
    "execution": {
     "iopub.execute_input": "2020-11-23T15:37:10.817763Z",
     "iopub.status.busy": "2020-11-23T15:37:10.809703Z",
     "iopub.status.idle": "2020-11-23T15:37:10.975407Z",
     "shell.execute_reply": "2020-11-23T15:37:10.974491Z"
    },
    "papermill": {
     "duration": 0.201184,
     "end_time": "2020-11-23T15:37:10.975552",
     "exception": false,
     "start_time": "2020-11-23T15:37:10.774368",
     "status": "completed"
    },
    "tags": []
   },
   "outputs": [
    {
     "data": {
      "text/plain": [
       "66520"
      ]
     },
     "execution_count": 5,
     "metadata": {},
     "output_type": "execute_result"
    }
   ],
   "source": [
    "train = Pcl.groupby('group_M').sample(frac=.8).index\n",
    "test = Pcl[~Pcl.index.isin(train)].index\n",
    "len(train)+len(test)"
   ]
  },
  {
   "cell_type": "code",
   "execution_count": 6,
   "metadata": {
    "execution": {
     "iopub.execute_input": "2020-11-23T15:37:11.038617Z",
     "iopub.status.busy": "2020-11-23T15:37:11.037831Z",
     "iopub.status.idle": "2020-11-23T15:37:11.107495Z",
     "shell.execute_reply": "2020-11-23T15:37:11.106401Z"
    },
    "papermill": {
     "duration": 0.108493,
     "end_time": "2020-11-23T15:37:11.107674",
     "exception": false,
     "start_time": "2020-11-23T15:37:10.999181",
     "status": "completed"
    },
    "tags": []
   },
   "outputs": [
    {
     "name": "stderr",
     "output_type": "stream",
     "text": [
      "/opt/conda/lib/python3.7/site-packages/ipykernel_launcher.py:2: SettingWithCopyWarning: \n",
      "A value is trying to be set on a copy of a slice from a DataFrame.\n",
      "Try using .loc[row_indexer,col_indexer] = value instead\n",
      "\n",
      "See the caveats in the documentation: https://pandas.pydata.org/pandas-docs/stable/user_guide/indexing.html#returning-a-view-versus-a-copy\n",
      "  \n",
      "/opt/conda/lib/python3.7/site-packages/pandas/core/frame.py:3093: SettingWithCopyWarning: \n",
      "A value is trying to be set on a copy of a slice from a DataFrame\n",
      "\n",
      "See the caveats in the documentation: https://pandas.pydata.org/pandas-docs/stable/user_guide/indexing.html#returning-a-view-versus-a-copy\n",
      "  self._where(-key, value, inplace=True)\n"
     ]
    }
   ],
   "source": [
    "df_covar = Pcl.filter(regex='density|Dif_|EF|GLCM|LW|max_SI|mean_|mn_|num|obj|SI_|std|tot')\n",
    "df_covar[df_covar>1e5] =0 "
   ]
  },
  {
   "cell_type": "code",
   "execution_count": 7,
   "metadata": {
    "_cell_guid": "79c7e3d0-c299-4dcb-8224-4455121ee9b0",
    "_uuid": "d629ff2d2480ee46fbb7e2d37f6b5fab8052498a",
    "execution": {
     "iopub.execute_input": "2020-11-23T15:37:11.165464Z",
     "iopub.status.busy": "2020-11-23T15:37:11.164709Z",
     "iopub.status.idle": "2020-11-23T15:37:11.212475Z",
     "shell.execute_reply": "2020-11-23T15:37:11.211772Z"
    },
    "papermill": {
     "duration": 0.079981,
     "end_time": "2020-11-23T15:37:11.212608",
     "exception": false,
     "start_time": "2020-11-23T15:37:11.132627",
     "status": "completed"
    },
    "tags": []
   },
   "outputs": [
    {
     "data": {
      "text/plain": [
       "'xgboost softmax regression'"
      ]
     },
     "execution_count": 7,
     "metadata": {},
     "output_type": "execute_result"
    }
   ],
   "source": [
    " \n",
    "X_train = df_covar.loc [train ]\n",
    "X_test  = df_covar.loc  [test ]\n",
    "Y_train  =Pcl.filter(regex='group_M').loc[train ]\n",
    "Y_test  =Pcl.filter(regex='group_M').loc[test ]\n",
    "Y_train= Y_train.values\n",
    "Y_test = Y_test.values\n",
    " \n",
    "\n",
    "\n",
    " #string.ascii_lowercase\n",
    "\n",
    "\"\"\"xgboost softmax regression\"\"\"\n"
   ]
  },
  {
   "cell_type": "code",
   "execution_count": 8,
   "metadata": {
    "execution": {
     "iopub.execute_input": "2020-11-23T15:37:11.284587Z",
     "iopub.status.busy": "2020-11-23T15:37:11.283067Z",
     "iopub.status.idle": "2020-11-23T15:37:11.292673Z",
     "shell.execute_reply": "2020-11-23T15:37:11.291859Z"
    },
    "papermill": {
     "duration": 0.055802,
     "end_time": "2020-11-23T15:37:11.292830",
     "exception": false,
     "start_time": "2020-11-23T15:37:11.237028",
     "status": "completed"
    },
    "tags": []
   },
   "outputs": [],
   "source": [
    "label_all =  Pcl.group_M.unique()\n",
    "i = 0\n",
    "idx2class = {}\n",
    "class2idx = {}\n",
    "for tp in label_all:\n",
    "    idx2class[i] = tp\n",
    "    class2idx[tp] = i \n",
    "    i+= 1\n"
   ]
  },
  {
   "cell_type": "code",
   "execution_count": 9,
   "metadata": {
    "execution": {
     "iopub.execute_input": "2020-11-23T15:37:11.359449Z",
     "iopub.status.busy": "2020-11-23T15:37:11.354271Z",
     "iopub.status.idle": "2020-11-23T15:37:11.400631Z",
     "shell.execute_reply": "2020-11-23T15:37:11.401274Z"
    },
    "papermill": {
     "duration": 0.083027,
     "end_time": "2020-11-23T15:37:11.401439",
     "exception": false,
     "start_time": "2020-11-23T15:37:11.318412",
     "status": "completed"
    },
    "tags": []
   },
   "outputs": [],
   "source": [
    " \n",
    "Y_trainnum = cl2idx(Y_train, class2idx)\n",
    "Y_testnum = cl2idx(Y_test, class2idx)\n",
    " \n",
    " "
   ]
  },
  {
   "cell_type": "code",
   "execution_count": 10,
   "metadata": {
    "execution": {
     "iopub.execute_input": "2020-11-23T15:37:11.458470Z",
     "iopub.status.busy": "2020-11-23T15:37:11.457571Z",
     "iopub.status.idle": "2020-11-23T15:37:11.463650Z",
     "shell.execute_reply": "2020-11-23T15:37:11.462868Z"
    },
    "papermill": {
     "duration": 0.036981,
     "end_time": "2020-11-23T15:37:11.463795",
     "exception": false,
     "start_time": "2020-11-23T15:37:11.426814",
     "status": "completed"
    },
    "tags": []
   },
   "outputs": [
    {
     "data": {
      "text/plain": [
       "(53217, 1)"
      ]
     },
     "execution_count": 10,
     "metadata": {},
     "output_type": "execute_result"
    }
   ],
   "source": [
    "Y_train.shape"
   ]
  },
  {
   "cell_type": "code",
   "execution_count": 11,
   "metadata": {
    "execution": {
     "iopub.execute_input": "2020-11-23T15:37:11.522073Z",
     "iopub.status.busy": "2020-11-23T15:37:11.520942Z",
     "iopub.status.idle": "2020-11-23T15:37:11.528361Z",
     "shell.execute_reply": "2020-11-23T15:37:11.527591Z"
    },
    "papermill": {
     "duration": 0.038494,
     "end_time": "2020-11-23T15:37:11.528491",
     "exception": false,
     "start_time": "2020-11-23T15:37:11.489997",
     "status": "completed"
    },
    "tags": []
   },
   "outputs": [
    {
     "data": {
      "text/plain": [
       "array([0., 1., 2., 3.])"
      ]
     },
     "execution_count": 11,
     "metadata": {},
     "output_type": "execute_result"
    }
   ],
   "source": [
    "np.unique(Y_trainnum)"
   ]
  },
  {
   "cell_type": "code",
   "execution_count": 12,
   "metadata": {
    "execution": {
     "iopub.execute_input": "2020-11-23T15:37:11.589197Z",
     "iopub.status.busy": "2020-11-23T15:37:11.588129Z",
     "iopub.status.idle": "2020-11-23T15:37:11.770641Z",
     "shell.execute_reply": "2020-11-23T15:37:11.771223Z"
    },
    "papermill": {
     "duration": 0.216887,
     "end_time": "2020-11-23T15:37:11.771394",
     "exception": false,
     "start_time": "2020-11-23T15:37:11.554507",
     "status": "completed"
    },
    "tags": []
   },
   "outputs": [],
   "source": [
    "\n",
    "dtrain = xgb.DMatrix(X_train, label=Y_trainnum)\n",
    "dtest = xgb.DMatrix(X_test, label=Y_testnum)\n",
    "params = {'max_depth': 6, 'eta': 0.002, 'silent': 1, 'n_estimators' : 1500,\n",
    "          'objective': 'multi:softprob', 'num_class': len(np.unique(Y_trainnum)), 'eval_metric':['merror', 'mlogloss', 'auc' ] }\n",
    "# Fit\n",
    "\n",
    "# Evalute\n",
    "\n",
    " \n",
    " "
   ]
  },
  {
   "cell_type": "code",
   "execution_count": 13,
   "metadata": {
    "execution": {
     "iopub.execute_input": "2020-11-23T15:37:11.829902Z",
     "iopub.status.busy": "2020-11-23T15:37:11.829009Z",
     "iopub.status.idle": "2020-11-23T15:38:22.670950Z",
     "shell.execute_reply": "2020-11-23T15:38:22.672215Z"
    },
    "papermill": {
     "duration": 70.874948,
     "end_time": "2020-11-23T15:38:22.672452",
     "exception": false,
     "start_time": "2020-11-23T15:37:11.797504",
     "status": "completed"
    },
    "tags": []
   },
   "outputs": [
    {
     "name": "stdout",
     "output_type": "stream",
     "text": [
      "[15:37:11] WARNING: ../src/learner.cc:516: \n",
      "Parameters: { n_estimators, silent } might not be used.\n",
      "\n",
      "  This may not be accurate due to some parameters are only used in language bindings but\n",
      "  passed down to XGBoost core.  Or some parameters are not used but slip through this\n",
      "  verification. Please open an issue if you find above cases.\n",
      "\n",
      "\n"
     ]
    }
   ],
   "source": [
    "model = xgb.train(params, dtrain, 100)"
   ]
  },
  {
   "cell_type": "code",
   "execution_count": 14,
   "metadata": {
    "execution": {
     "iopub.execute_input": "2020-11-23T15:38:22.750399Z",
     "iopub.status.busy": "2020-11-23T15:38:22.749129Z",
     "iopub.status.idle": "2020-11-23T15:38:22.886413Z",
     "shell.execute_reply": "2020-11-23T15:38:22.887236Z"
    },
    "papermill": {
     "duration": 0.179274,
     "end_time": "2020-11-23T15:38:22.887426",
     "exception": false,
     "start_time": "2020-11-23T15:38:22.708152",
     "status": "completed"
    },
    "tags": []
   },
   "outputs": [],
   "source": [
    "yhat = model.predict(dtest)\n",
    "yhat_labels = np.argmax(yhat, axis=1)"
   ]
  },
  {
   "cell_type": "code",
   "execution_count": 15,
   "metadata": {
    "execution": {
     "iopub.execute_input": "2020-11-23T15:38:22.964104Z",
     "iopub.status.busy": "2020-11-23T15:38:22.962885Z",
     "iopub.status.idle": "2020-11-23T15:38:23.002009Z",
     "shell.execute_reply": "2020-11-23T15:38:23.002759Z"
    },
    "papermill": {
     "duration": 0.083742,
     "end_time": "2020-11-23T15:38:23.003110",
     "exception": false,
     "start_time": "2020-11-23T15:38:22.919368",
     "status": "completed"
    },
    "tags": []
   },
   "outputs": [
    {
     "name": "stdout",
     "output_type": "stream",
     "text": [
      "precision:  tp / (tp + fp)\n",
      "[0.45398482 0.53096134 0.54623656 0.63786957]\n",
      "recall:  tp / (tp + fn)\n",
      "[0.50944903 0.56933236 0.26746227 0.76605389]\n",
      "Accuracy: 54.65%\n",
      "Precision: 54.44% \n",
      "Recall: 54.65% \n",
      "{'P1a1': 0, 'P1a2': 1, 'P2c': 2, 'P2b': 3}\n"
     ]
    }
   ],
   "source": [
    "accuracy = accuracy_score(Y_testnum, yhat_labels)\n",
    "print(\"precision:  tp / (tp + fp)\")\n",
    "print(precision_score(Y_testnum, yhat_labels, average = None))\n",
    "\n",
    "print(\"recall:  tp / (tp + fn)\") \n",
    "print(recall_score(Y_testnum, yhat_labels, average = None))\n",
    "\n",
    "recall=recall_score(Y_testnum, yhat_labels, average = 'weighted')\n",
    "precision=precision_score(Y_testnum, yhat_labels, average = \"weighted\")\n",
    "print(\"Accuracy: %.2f%%\" % (accuracy * 100.0))\n",
    "print(\"Precision: %.2f%% \" % (precision *100))\n",
    "print(\"Recall: %.2f%% \" % (recall * 100))\n",
    "print(class2idx)\n",
    "\n",
    "\n"
   ]
  },
  {
   "cell_type": "code",
   "execution_count": 16,
   "metadata": {
    "execution": {
     "iopub.execute_input": "2020-11-23T15:38:23.080293Z",
     "iopub.status.busy": "2020-11-23T15:38:23.079142Z",
     "iopub.status.idle": "2020-11-23T15:38:23.083705Z",
     "shell.execute_reply": "2020-11-23T15:38:23.083066Z"
    },
    "papermill": {
     "duration": 0.043186,
     "end_time": "2020-11-23T15:38:23.083828",
     "exception": false,
     "start_time": "2020-11-23T15:38:23.040642",
     "status": "completed"
    },
    "tags": []
   },
   "outputs": [],
   "source": [
    "Y_testnum =  Y_testnum.astype(int)"
   ]
  },
  {
   "cell_type": "code",
   "execution_count": 17,
   "metadata": {
    "execution": {
     "iopub.execute_input": "2020-11-23T15:38:23.144320Z",
     "iopub.status.busy": "2020-11-23T15:38:23.143474Z",
     "iopub.status.idle": "2020-11-23T15:38:23.173822Z",
     "shell.execute_reply": "2020-11-23T15:38:23.174449Z"
    },
    "papermill": {
     "duration": 0.063351,
     "end_time": "2020-11-23T15:38:23.174599",
     "exception": false,
     "start_time": "2020-11-23T15:38:23.111248",
     "status": "completed"
    },
    "tags": []
   },
   "outputs": [
    {
     "data": {
      "text/plain": [
       "array([[1914,  929,  287,  627],\n",
       "       [ 815, 1552,  135,  224],\n",
       "       [ 886,  325,  762,  876],\n",
       "       [ 601,  117,  211, 3042]])"
      ]
     },
     "execution_count": 17,
     "metadata": {},
     "output_type": "execute_result"
    }
   ],
   "source": [
    "cm  = confusion_matrix(Y_testnum, yhat_labels)\n",
    "cm"
   ]
  },
  {
   "cell_type": "code",
   "execution_count": 18,
   "metadata": {
    "execution": {
     "iopub.execute_input": "2020-11-23T15:38:23.238526Z",
     "iopub.status.busy": "2020-11-23T15:38:23.237770Z",
     "iopub.status.idle": "2020-11-23T15:38:27.284505Z",
     "shell.execute_reply": "2020-11-23T15:38:27.283851Z"
    },
    "papermill": {
     "duration": 4.081794,
     "end_time": "2020-11-23T15:38:27.284664",
     "exception": false,
     "start_time": "2020-11-23T15:38:23.202870",
     "status": "completed"
    },
    "tags": []
   },
   "outputs": [
    {
     "data": {
      "image/png": "[encoded data removed]",
      "text/plain": [
       "<Figure size 432x288 with 1 Axes>"
      ]
     },
     "metadata": {
      "needs_background": "light"
     },
     "output_type": "display_data"
    }
   ],
   "source": [
    "plt.rcParams.update({'font.size': 4})\n",
    "xgb.plot_importance(model, grid=False, importance_type='gain', title='Feature importance')\n",
    "\n",
    "fname = \"obia importance\"\n",
    "plt.savefig(fname, dpi=1200)\n",
    "\n",
    " "
   ]
  },
  {
   "cell_type": "code",
   "execution_count": 19,
   "metadata": {
    "execution": {
     "iopub.execute_input": "2020-11-23T15:38:27.349768Z",
     "iopub.status.busy": "2020-11-23T15:38:27.348750Z",
     "iopub.status.idle": "2020-11-23T15:38:27.353581Z",
     "shell.execute_reply": "2020-11-23T15:38:27.352958Z"
    },
    "papermill": {
     "duration": 0.039596,
     "end_time": "2020-11-23T15:38:27.353706",
     "exception": false,
     "start_time": "2020-11-23T15:38:27.314110",
     "status": "completed"
    },
    "tags": []
   },
   "outputs": [
    {
     "data": {
      "text/plain": [
       "'\\nplt.rcParams.update({\\'font.size\\': 4})\\nxgb.plot_tree(model, num_trees=2)\\nfname = \"xgb_tree2\"\\nplt.savefig(fname, dpi=1200)\\n\\nplt.rcParams.update({\\'font.size\\': 4})\\nxgb.plot_tree(model, num_trees=1000)\\nfname = \"xgb_tree1000\"\\nplt.savefig(fname, dpi=1200)\\n'"
      ]
     },
     "execution_count": 19,
     "metadata": {},
     "output_type": "execute_result"
    }
   ],
   "source": [
    "'''\n",
    "plt.rcParams.update({'font.size': 4})\n",
    "xgb.plot_tree(model, num_trees=2)\n",
    "fname = \"xgb_tree2\"\n",
    "plt.savefig(fname, dpi=1200)\n",
    "\n",
    "plt.rcParams.update({'font.size': 4})\n",
    "xgb.plot_tree(model, num_trees=1000)\n",
    "fname = \"xgb_tree1000\"\n",
    "plt.savefig(fname, dpi=1200)\n",
    "'''\n"
   ]
  },
  {
   "cell_type": "code",
   "execution_count": 20,
   "metadata": {
    "execution": {
     "iopub.execute_input": "2020-11-23T15:38:27.419395Z",
     "iopub.status.busy": "2020-11-23T15:38:27.418473Z",
     "iopub.status.idle": "2020-11-23T15:38:27.421690Z",
     "shell.execute_reply": "2020-11-23T15:38:27.421083Z"
    },
    "papermill": {
     "duration": 0.037496,
     "end_time": "2020-11-23T15:38:27.421807",
     "exception": false,
     "start_time": "2020-11-23T15:38:27.384311",
     "status": "completed"
    },
    "tags": []
   },
   "outputs": [],
   "source": [
    "#xgb.to_graphviz(model, num_trees=2)"
   ]
  },
  {
   "cell_type": "code",
   "execution_count": 21,
   "metadata": {
    "execution": {
     "iopub.execute_input": "2020-11-23T15:38:27.487421Z",
     "iopub.status.busy": "2020-11-23T15:38:27.486621Z",
     "iopub.status.idle": "2020-11-23T15:38:27.490269Z",
     "shell.execute_reply": "2020-11-23T15:38:27.489631Z"
    },
    "papermill": {
     "duration": 0.038437,
     "end_time": "2020-11-23T15:38:27.490388",
     "exception": false,
     "start_time": "2020-11-23T15:38:27.451951",
     "status": "completed"
    },
    "tags": []
   },
   "outputs": [],
   "source": [
    "classes = ['P1a1', 'P1a2', 'P2c', 'P2b']"
   ]
  },
  {
   "cell_type": "code",
   "execution_count": 22,
   "metadata": {
    "execution": {
     "iopub.execute_input": "2020-11-23T15:38:27.812538Z",
     "iopub.status.busy": "2020-11-23T15:38:27.808624Z",
     "iopub.status.idle": "2020-11-23T15:38:27.989101Z",
     "shell.execute_reply": "2020-11-23T15:38:27.988471Z"
    },
    "papermill": {
     "duration": 0.468529,
     "end_time": "2020-11-23T15:38:27.989218",
     "exception": false,
     "start_time": "2020-11-23T15:38:27.520689",
     "status": "completed"
    },
    "tags": []
   },
   "outputs": [
    {
     "data": {
      "text/plain": [
       "<matplotlib.colorbar.Colorbar at 0x7fac96fb3bd0>"
      ]
     },
     "execution_count": 22,
     "metadata": {},
     "output_type": "execute_result"
    },
    {
     "data": {
      "image/png": "[encoded data removed]",
      "text/plain": [
       "<Figure size 432x288 with 2 Axes>"
      ]
     },
     "metadata": {
      "needs_background": "light"
     },
     "output_type": "display_data"
    }
   ],
   "source": [
    "# column is predicted\n",
    " \n",
    "fig, ax = plt.subplots(1,1)\n",
    "plt.rcParams.update({'font.size': 11})\n",
    "plt.imshow(np.log(cm), cmap=plt.get_cmap(\"GnBu\"))\n",
    "ax.set_xticks([0,1,2,3])\n",
    "ax.set_yticks([0,1,2,3])\n",
    "ax.set_xticklabels(classes )\n",
    "ax.set_yticklabels(classes )\n",
    "\n",
    "plt.colorbar()"
   ]
  },
  {
   "cell_type": "code",
   "execution_count": 23,
   "metadata": {
    "execution": {
     "iopub.execute_input": "2020-11-23T15:38:28.071976Z",
     "iopub.status.busy": "2020-11-23T15:38:28.065935Z",
     "iopub.status.idle": "2020-11-23T15:38:28.274072Z",
     "shell.execute_reply": "2020-11-23T15:38:28.273332Z"
    },
    "papermill": {
     "duration": 0.250872,
     "end_time": "2020-11-23T15:38:28.274194",
     "exception": false,
     "start_time": "2020-11-23T15:38:28.023322",
     "status": "completed"
    },
    "tags": []
   },
   "outputs": [
    {
     "data": {
      "text/plain": [
       "<matplotlib.colorbar.Colorbar at 0x7fac96fc0c90>"
      ]
     },
     "execution_count": 23,
     "metadata": {},
     "output_type": "execute_result"
    },
    {
     "data": {
      "image/png": "[encoded data removed]",
      "text/plain": [
       "<Figure size 432x288 with 2 Axes>"
      ]
     },
     "metadata": {
      "needs_background": "light"
     },
     "output_type": "display_data"
    }
   ],
   "source": [
    "fig, ax = plt.subplots(1,1)\n",
    "cm  = confusion_matrix(Y_testnum, yhat_labels,normalize='true')\n",
    "plt.imshow(cm, cmap=plt.get_cmap(\"GnBu\"))\n",
    "ax.set_xticks([0,1,2,3])\n",
    "ax.set_yticks([0,1,2,3])\n",
    "ax.set_xticklabels(classes )\n",
    "ax.set_yticklabels(classes )\n",
    "\n",
    "plt.colorbar() \n",
    "# TP/ all True"
   ]
  },
  {
   "cell_type": "code",
   "execution_count": 24,
   "metadata": {
    "execution": {
     "iopub.execute_input": "2020-11-23T15:38:28.354979Z",
     "iopub.status.busy": "2020-11-23T15:38:28.353876Z",
     "iopub.status.idle": "2020-11-23T15:38:28.569989Z",
     "shell.execute_reply": "2020-11-23T15:38:28.569185Z"
    },
    "papermill": {
     "duration": 0.262952,
     "end_time": "2020-11-23T15:38:28.570126",
     "exception": false,
     "start_time": "2020-11-23T15:38:28.307174",
     "status": "completed"
    },
    "tags": []
   },
   "outputs": [
    {
     "data": {
      "text/plain": [
       "<matplotlib.colorbar.Colorbar at 0x7fac97036190>"
      ]
     },
     "execution_count": 24,
     "metadata": {},
     "output_type": "execute_result"
    },
    {
     "data": {
      "image/png": "[encoded data removed]",
      "text/plain": [
       "<Figure size 432x288 with 2 Axes>"
      ]
     },
     "metadata": {
      "needs_background": "light"
     },
     "output_type": "display_data"
    }
   ],
   "source": [
    "fig, ax = plt.subplots(1,1)\n",
    "cm  = confusion_matrix(Y_testnum, yhat_labels,normalize='pred')\n",
    "plt.imshow(cm, cmap=plt.get_cmap(\"GnBu\"))\n",
    "ax.set_xticks([0,1,2,3])\n",
    "ax.set_yticks([0,1,2,3])\n",
    "ax.set_xticklabels(classes )\n",
    "ax.set_yticklabels(classes )\n",
    "\n",
    "plt.colorbar() \n",
    "# TP/ (all predicted T), most of the times, the predictions. "
   ]
  },
  {
   "cell_type": "code",
   "execution_count": 25,
   "metadata": {
    "execution": {
     "iopub.execute_input": "2020-11-23T15:38:28.662139Z",
     "iopub.status.busy": "2020-11-23T15:38:28.657938Z",
     "iopub.status.idle": "2020-11-23T15:38:28.665773Z",
     "shell.execute_reply": "2020-11-23T15:38:28.665082Z"
    },
    "papermill": {
     "duration": 0.05972,
     "end_time": "2020-11-23T15:38:28.665923",
     "exception": false,
     "start_time": "2020-11-23T15:38:28.606203",
     "status": "completed"
    },
    "tags": []
   },
   "outputs": [],
   "source": [
    "testgeo = pd.DataFrame(joind[\"geometry\"].iloc[test])\n",
    "testgeo[\"test_truth\"] =  Y_test\n",
    "testgeo[\"predicted\"] =  yhat_labels\n",
    "testgeo[\"truth_num\"] = Y_testnum\n",
    "testgeo = testgeo.set_geometry('geometry')"
   ]
  },
  {
   "cell_type": "code",
   "execution_count": 26,
   "metadata": {
    "execution": {
     "iopub.execute_input": "2020-11-23T15:38:28.748516Z",
     "iopub.status.busy": "2020-11-23T15:38:28.747536Z",
     "iopub.status.idle": "2020-11-23T15:38:28.752198Z",
     "shell.execute_reply": "2020-11-23T15:38:28.752734Z"
    },
    "papermill": {
     "duration": 0.048923,
     "end_time": "2020-11-23T15:38:28.752892",
     "exception": false,
     "start_time": "2020-11-23T15:38:28.703969",
     "status": "completed"
    },
    "tags": []
   },
   "outputs": [
    {
     "data": {
      "text/plain": [
       "'\\ntestgeo.to_file(\"testP.shp\")\\n'"
      ]
     },
     "execution_count": 26,
     "metadata": {},
     "output_type": "execute_result"
    }
   ],
   "source": [
    "'''\n",
    "testgeo.to_file(\"testP.shp\")\n",
    "'''"
   ]
  },
  {
   "cell_type": "code",
   "execution_count": 27,
   "metadata": {
    "execution": {
     "iopub.execute_input": "2020-11-23T15:38:28.834972Z",
     "iopub.status.busy": "2020-11-23T15:38:28.833222Z",
     "iopub.status.idle": "2020-11-23T15:38:28.838051Z",
     "shell.execute_reply": "2020-11-23T15:38:28.838796Z"
    },
    "papermill": {
     "duration": 0.049836,
     "end_time": "2020-11-23T15:38:28.839011",
     "exception": false,
     "start_time": "2020-11-23T15:38:28.789175",
     "status": "completed"
    },
    "tags": []
   },
   "outputs": [],
   "source": [
    "\n",
    "\n",
    "def merror(predt: np.ndarray, dtrain: xgb.DMatrix):\n",
    "    y = dtrain.get_label()\n",
    "    # Like custom objective, the predt is untransformed leaf weight\n",
    "    assert predt.shape == (kRows, kClasses)\n",
    "    out = np.zeros(kRows)\n",
    "    for r in range(predt.shape[0]):\n",
    "        i = np.argmax(predt[r])\n",
    "        out[r] = i\n",
    "\n",
    "    assert y.shape == out.shape\n",
    "\n",
    "    errors = np.zeros(kRows)\n",
    "    errors[y != out] = 1.0\n",
    "    return 'PyMError', np.sum(errors) / kRows\n",
    "\n",
    "\n"
   ]
  }
 ],
 "metadata": {
  "kernelspec": {
   "display_name": "Python 3",
   "language": "python",
   "name": "python3"
  },
  "language_info": {
   "codemirror_mode": {
    "name": "ipython",
    "version": 3
   },
   "file_extension": ".py",
   "mimetype": "text/x-python",
   "name": "python",
   "nbconvert_exporter": "python",
   "pygments_lexer": "ipython3",
   "version": "3.7.6"
  },
  "papermill": {
   "duration": 161.438762,
   "end_time": "2020-11-23T15:38:29.187295",
   "environment_variables": {},
   "exception": null,
   "input_path": "__notebook__.ipynb",
   "output_path": "__notebook__.ipynb",
   "parameters": {},
   "start_time": "2020-11-23T15:35:47.748533",
   "version": "2.1.0"
  }
 },
 "nbformat": 4,
 "nbformat_minor": 4
}
